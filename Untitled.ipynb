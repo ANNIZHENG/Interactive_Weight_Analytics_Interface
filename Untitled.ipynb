{
 "cells": [
  {
   "cell_type": "code",
   "execution_count": 1,
   "id": "77cf52be",
   "metadata": {},
   "outputs": [],
   "source": [
    "# pip install streamlit\n"
   ]
  },
  {
   "cell_type": "code",
   "execution_count": null,
   "id": "7e221e08",
   "metadata": {},
   "outputs": [
    {
     "name": "stdout",
     "output_type": "stream",
     "text": [
      "\u001b[0m\n",
      "\u001b[34m\u001b[1m  You can now view your Streamlit app in your browser.\u001b[0m\n",
      "\u001b[0m\n",
      "\u001b[34m  Local URL: \u001b[0m\u001b[1mhttp://localhost:8502\u001b[0m\n",
      "\u001b[34m  Network URL: \u001b[0m\u001b[1mhttp://192.168.1.54:8502\u001b[0m\n",
      "\u001b[0m\n",
      "Normal Training Videos: ['000103', '000384', '002860', '000815', '000109', '002473', '001719', '002299', '001729', '000178', '000572', '000896', '001004', '001379', '002419', '001139', '000357', '000380', '002772', '000420', '000457', '002070', '002234', '001394', '000654', '001840', '001409', '001140', '002933', '000903']\n",
      "\n",
      "Crash Training Videos: ['001099', '000094', '001400', '000779', '000477', '001311', '000334', '000207', '000394', '001141', '001131', '001355', '000776', '001094', '001183', '001248', '000741', '000502', '001288', '000601', '000941', '000593', '001267', '000147', '001438', '000728', '000553', '001373', '000570', '000759']\n",
      "\n",
      "Normal Validation Videos: ['000915', '000397', '002620', '001557', '001127', '002662', '000123', '001732', '000637', '000419']\n",
      "\n",
      "Crash Validation Videos: ['000162', '000947', '001495', '000335', '000256', '000929', '000143', '001328', '001301', '001494']\n",
      "\n",
      "Normal Test Videos: ['000131', '000882', '002414', '001471', '000953', '001084', '002233', '002873', '000027', '002466']\n",
      "\n",
      "Crash Test Videos: ['001443', '000351', '000430', '000778', '000467', '001410', '000748', '001302', '000547', '000164']\n",
      "Callbacks being passed to model.fit(): None\n",
      "Epoch 1/5\n"
     ]
    }
   ],
   "source": [
    "!streamlit run VideoVisionTransformer_dashboard.py"
   ]
  },
  {
   "cell_type": "code",
   "execution_count": null,
   "id": "d8b89141",
   "metadata": {},
   "outputs": [],
   "source": []
  },
  {
   "cell_type": "code",
   "execution_count": null,
   "id": "f7c4b5eb",
   "metadata": {},
   "outputs": [],
   "source": []
  }
 ],
 "metadata": {
  "kernelspec": {
   "display_name": "Python 3 (ipykernel)",
   "language": "python",
   "name": "python3"
  },
  "language_info": {
   "codemirror_mode": {
    "name": "ipython",
    "version": 3
   },
   "file_extension": ".py",
   "mimetype": "text/x-python",
   "name": "python",
   "nbconvert_exporter": "python",
   "pygments_lexer": "ipython3",
   "version": "3.11.5"
  }
 },
 "nbformat": 4,
 "nbformat_minor": 5
}
