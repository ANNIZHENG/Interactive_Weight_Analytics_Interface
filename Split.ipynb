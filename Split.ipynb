{
 "cells": [
  {
   "cell_type": "code",
   "execution_count": 3,
   "id": "162461b6",
   "metadata": {},
   "outputs": [
    {
     "name": "stdout",
     "output_type": "stream",
     "text": [
      "Total Frames: 50\n",
      "Frames extracted: 50\n"
     ]
    }
   ],
   "source": [
    "import cv2\n",
    "import os\n",
    "\n",
    "# Adjusted to get frames\n",
    "video_name = '000002'\n",
    "video_folder = 'Normal'\n",
    "\n",
    "# Directory to save the frames\n",
    "video_path = 'data/raw/' + video_folder + '/' + video_name + '.mp4'\n",
    "frame_directory = 'data/frames/' + video_folder + '/' +  video_name\n",
    "os.makedirs(frame_directory, exist_ok=True)\n",
    "\n",
    "# Read the video\n",
    "cap = cv2.VideoCapture(video_path)\n",
    "print(f\"Total Frames: {int(cap.get(cv2.CAP_PROP_FRAME_COUNT))}\")\n",
    "\n",
    "# Check if video opened successfully\n",
    "if not cap.isOpened():\n",
    "    print(\"Error: Could not open video.\")\n",
    "    exit()\n",
    "\n",
    "frame_count = 0\n",
    "while True:\n",
    "    # Read a frame\n",
    "    success, frame = cap.read()\n",
    "    \n",
    "    # If read was successful, save the frame\n",
    "    if success:\n",
    "        frame_filename = os.path.join(frame_directory, f\"frame_{frame_count:04d}.jpg\")\n",
    "        cv2.imwrite(frame_filename, frame)\n",
    "        frame_count += 1\n",
    "    else:\n",
    "        # No more frames to read\n",
    "        break\n",
    "\n",
    "# Release the video capture object\n",
    "cap.release()\n",
    "print(f\"Frames extracted: {frame_count}\")"
   ]
  },
  {
   "cell_type": "code",
   "execution_count": null,
   "id": "07466d61",
   "metadata": {},
   "outputs": [],
   "source": []
  }
 ],
 "metadata": {
  "kernelspec": {
   "display_name": "Python 3 (ipykernel)",
   "language": "python",
   "name": "python3"
  },
  "language_info": {
   "codemirror_mode": {
    "name": "ipython",
    "version": 3
   },
   "file_extension": ".py",
   "mimetype": "text/x-python",
   "name": "python",
   "nbconvert_exporter": "python",
   "pygments_lexer": "ipython3",
   "version": "3.11.4"
  }
 },
 "nbformat": 4,
 "nbformat_minor": 5
}
