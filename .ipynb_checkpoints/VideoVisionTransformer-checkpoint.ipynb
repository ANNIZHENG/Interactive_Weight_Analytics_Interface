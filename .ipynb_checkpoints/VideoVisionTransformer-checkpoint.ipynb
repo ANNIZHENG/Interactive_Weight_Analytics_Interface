{
 "cells": [
  {
   "cell_type": "markdown",
   "id": "2180a0d9",
   "metadata": {},
   "source": [
    "## Video Vision Transformer"
   ]
  },
  {
   "cell_type": "code",
   "execution_count": 1,
   "id": "cbe2cbf2",
   "metadata": {},
   "outputs": [],
   "source": [
    "import cv2\n",
    "import os\n",
    "import math\n",
    "import random\n",
    "import pandas as pd\n",
    "from sklearn.model_selection import train_test_split\n",
    "import tensorflow as tf\n",
    "import numpy as np\n",
    "import keras\n",
    "from keras import layers, ops\n",
    "import matplotlib.pyplot as plt\n",
    "keras.utils.set_random_seed(42)\n",
    "tf.data.experimental.enable_debug_mode()\n",
    "tf.config.run_functions_eagerly(True) \n",
    "\n",
    "from tensorflow.keras.models import Model\n",
    "from sklearn.manifold import (TSNE)\n",
    "from sklearn.metrics import roc_curve, auc\n",
    "# os.environ[\"TF_CUDNN_DETERMINISTIC\"] = \"1\"\n",
    "\n",
    "import ipywidgets as widgets\n",
    "from matplotlib.patches import Patch"
   ]
  },
  {
   "cell_type": "code",
   "execution_count": 2,
   "id": "a6bb1858",
   "metadata": {},
   "outputs": [
    {
     "data": {
      "text/html": [
       "<style> div.output_scroll {height: auto;} </style>"
      ],
      "text/plain": [
       "<IPython.core.display.HTML object>"
      ]
     },
     "metadata": {},
     "output_type": "display_data"
    }
   ],
   "source": [
    "from IPython.display import display, HTML\n",
    "display(HTML(\"<style> div.output_scroll {height: auto;} </style>\"))"
   ]
  },
  {
   "cell_type": "markdown",
   "id": "f39385b8",
   "metadata": {},
   "source": [
    "# Model Building and Training"
   ]
  },
  {
   "cell_type": "markdown",
   "id": "cda7dedf",
   "metadata": {},
   "source": [
    "## Parameters"
   ]
  },
  {
   "cell_type": "code",
   "execution_count": 3,
   "id": "48bef568",
   "metadata": {},
   "outputs": [],
   "source": [
    "# DATA\n",
    "IMG_SIZE = 128  ## Image size (128, 128) in this case\n",
    "CHAN_SIZE = 1   # 1-GrayScale; 3-RGB\n",
    "BATCH_SIZE = 8  ## 16, 32\n",
    "AUTO = tf.data.AUTOTUNE\n",
    "INPUT_SHAPE = (50, IMG_SIZE, IMG_SIZE, CHAN_SIZE)\n",
    "NUM_CLASSES = 2  # 1-Crash; 0-Normal\n",
    "\n",
    "# OPTIMIZER\n",
    "LEARNING_RATE = 1e-4\n",
    "WEIGHT_DECAY = 1e-5\n",
    "# EPOCHS = 10\n",
    "\n",
    "# TUBELET EMBEDDING\n",
    "PATCH_SIZE = (8,8,8) ##\n",
    "NUM_PATCHES = (INPUT_SHAPE[0] // PATCH_SIZE[0]) ** 2\n",
    "\n",
    "# ViViT ARCHITECTURE\n",
    "LAYER_NORM_EPS = 1e-6\n",
    "EMBED_DIM = 64   ## Size of the feature vectors transformed from the input\n",
    "NUM_HEADS =  6   ##\n",
    "NUM_LAYERS = 6   ##"
   ]
  },
  {
   "cell_type": "markdown",
   "id": "66a80fc4",
   "metadata": {},
   "source": [
    "## Retrieve videos for training, validating, and testing"
   ]
  },
  {
   "cell_type": "code",
   "execution_count": 4,
   "id": "b480498c",
   "metadata": {},
   "outputs": [],
   "source": [
    "# Path to retrieve the frames\n",
    "\n",
    "frames_path = '../data/frames/'\n",
    "frames_path_normal = '../data/frames/Normal/'\n",
    "frames_path_crash = '../data/frames/Crash/'\n",
    "\n",
    "# Sort video names in ascending order\n",
    "\n",
    "frames_name_normal = sorted([f for f in os.listdir(frames_path_normal)])\n",
    "frames_name_crash = sorted([f for f in os.listdir(frames_path_crash)])"
   ]
  },
  {
   "cell_type": "code",
   "execution_count": 5,
   "id": "ab11fbc3",
   "metadata": {},
   "outputs": [],
   "source": [
    "# Number of data each group is going to have\n",
    "\n",
    "num_normal = 50\n",
    "num_crash = 50\n",
    "\n",
    "frames_name_normal = random.sample(frames_name_normal, num_normal)\n",
    "frames_name_crash = random.sample(frames_name_crash, num_crash)"
   ]
  },
  {
   "cell_type": "code",
   "execution_count": 6,
   "id": "f49d8297",
   "metadata": {},
   "outputs": [],
   "source": [
    "# 6:2:2.5 Train Test Split\n",
    "\n",
    "train_normal, test_normal = train_test_split(frames_name_normal,test_size=0.3, random_state=42)\n",
    "train_crash, test_crash = train_test_split(frames_name_crash, test_size=0.3, random_state=42)\n",
    "\n",
    "temporary_normal, test_normal = train_test_split(frames_name_normal, test_size=0.2, random_state=42)\n",
    "temporary_crash, test_crash = train_test_split(frames_name_crash, test_size=0.2, random_state=42)\n",
    "\n",
    "train_normal, val_normal = train_test_split(temporary_normal, test_size=0.25, random_state=42)\n",
    "train_crash, val_crash = train_test_split(temporary_crash, test_size=0.25, random_state=42)"
   ]
  },
  {
   "cell_type": "markdown",
   "id": "cf9f3f44",
   "metadata": {},
   "source": [
    "## Data Preprocessing"
   ]
  },
  {
   "cell_type": "code",
   "execution_count": 7,
   "id": "90efadbb",
   "metadata": {},
   "outputs": [],
   "source": [
    "# Function that transforms image data matrix format\n",
    "# Input: String/path to image\n",
    "# Output: Normalized Image Matrix that is resized to desired shape\n",
    "# Each pixel of the image data would get decoded and normalized\n",
    "\n",
    "def load_image(path):\n",
    "    image = tf.io.read_file(path)\n",
    "    image = tf.image.decode_jpeg(image, channels=CHAN_SIZE)\n",
    "    image = tf.image.resize(image, [IMG_SIZE, IMG_SIZE])\n",
    "    image = tf.cast(image, tf.float32) / 255.0\n",
    "    return image"
   ]
  },
  {
   "cell_type": "code",
   "execution_count": 8,
   "id": "ba1b52b8",
   "metadata": {},
   "outputs": [],
   "source": [
    "# Transform each image/frame of the video into matrix format\n",
    "\n",
    "train_videos = []\n",
    "test_videos = []\n",
    "train_labels = []\n",
    "test_labels = []\n",
    "valid_videos = []\n",
    "valid_labels = []\n",
    "\n",
    "for t in train_normal:\n",
    "    video = []\n",
    "    for i in range(50):\n",
    "        current_frame_index = str(i)\n",
    "        if (i < 10):\n",
    "            video.append(load_image(frames_path_normal + t + \"/frame_000\" + str(i) + \".jpg\"))\n",
    "        else:\n",
    "            video.append(load_image(frames_path_normal + t + \"/frame_00\" + str(i) + \".jpg\"))\n",
    "    video = tf.stack(video)\n",
    "    train_videos.append(video.numpy())\n",
    "    train_labels.append(0)\n",
    "    \n",
    "for t in test_normal:\n",
    "    video = []\n",
    "    for i in range(50):\n",
    "        current_frame_index = str(i)\n",
    "        if (i < 10):\n",
    "            video.append(load_image(frames_path_normal + t + \"/frame_000\" + str(i) + \".jpg\"))\n",
    "        else:\n",
    "            video.append(load_image(frames_path_normal + t + \"/frame_00\" + str(i) + \".jpg\"))\n",
    "    video = tf.stack(video)\n",
    "    test_videos.append(video.numpy())\n",
    "    test_labels.append(0)\n",
    "\n",
    "for t in train_crash:\n",
    "    video = []\n",
    "    for i in range(50):\n",
    "        current_frame_index = str(i)\n",
    "        if (i < 10):\n",
    "            video.append(load_image(frames_path_crash + t + \"/frame_000\" + str(i) + \".jpg\"))\n",
    "        else:\n",
    "            video.append(load_image(frames_path_crash + t + \"/frame_00\" + str(i) + \".jpg\"))\n",
    "    video = tf.stack(video)\n",
    "    train_videos.append(video.numpy())\n",
    "    train_labels.append(1)\n",
    "    \n",
    "for t in test_crash:\n",
    "    video = []\n",
    "    for i in range(50):\n",
    "        current_frame_index = str(i)\n",
    "        if (i < 10):\n",
    "            video.append(load_image(frames_path_crash + t + \"/frame_000\" + str(i) + \".jpg\"))\n",
    "        else:\n",
    "            video.append(load_image(frames_path_crash + t + \"/frame_00\" + str(i) + \".jpg\"))\n",
    "    video = tf.stack(video)\n",
    "    test_videos.append(video.numpy())\n",
    "    test_labels.append(1)\n",
    "    \n",
    "for t in val_crash:\n",
    "    video = []\n",
    "    for i in range(50):\n",
    "        current_frame_index = str(i)\n",
    "        if (i < 10):\n",
    "            video.append(load_image(frames_path_crash + t + \"/frame_000\" + str(i) + \".jpg\"))\n",
    "        else:\n",
    "            video.append(load_image(frames_path_crash + t + \"/frame_00\" + str(i) + \".jpg\"))\n",
    "    video = tf.stack(video)\n",
    "    valid_videos.append(video.numpy())\n",
    "    valid_labels.append(1)\n",
    "\n",
    "for t in val_normal:\n",
    "    video = []\n",
    "    for i in range(50):\n",
    "        current_frame_index = str(i)\n",
    "        if (i < 10):\n",
    "            video.append(load_image(frames_path_normal + t + \"/frame_000\" + str(i) + \".jpg\"))\n",
    "        else:\n",
    "            video.append(load_image(frames_path_normal + t + \"/frame_00\" + str(i) + \".jpg\"))\n",
    "    video = tf.stack(video)\n",
    "    valid_videos.append(video.numpy())\n",
    "    valid_labels.append(0)\n",
    "\n",
    "train_videos = np.asarray(train_videos)\n",
    "test_videos = np.asarray(test_videos)\n",
    "train_labels = np.asarray(train_labels)\n",
    "test_labels = np.asarray(test_labels)\n",
    "valid_videos = np.asarray(valid_videos)\n",
    "valid_labels = np.asarray(valid_labels)"
   ]
  },
  {
   "cell_type": "code",
   "execution_count": 9,
   "id": "ee7632cd",
   "metadata": {},
   "outputs": [],
   "source": [
    "# Create Dataloader\n",
    "\n",
    "# Preprocess the frames tensors and parse the labels\n",
    "\n",
    "def preprocess(frames: tf.Tensor, label: tf.Tensor):\n",
    "    # Preprocess images\n",
    "    frames = tf.image.convert_image_dtype(\n",
    "        frames[\n",
    "            ..., tf.newaxis\n",
    "        ],  # The new axis is to help for further processing with Conv3D layers\n",
    "        tf.float32,\n",
    "    )\n",
    "    # Parse label\n",
    "    label = tf.cast(label, tf.float32)\n",
    "    return frames, label\n",
    "\n",
    "# Utility function to prepare the dataloader\n",
    "\n",
    "def prepare_dataloader(\n",
    "    videos: np.ndarray,\n",
    "    labels: np.ndarray,\n",
    "    loader_type: str = \"train\",\n",
    "    batch_size: int = BATCH_SIZE,\n",
    "):\n",
    "    dataset = tf.data.Dataset.from_tensor_slices((videos, labels))\n",
    "\n",
    "    if loader_type == \"train\":\n",
    "        dataset = dataset.shuffle(BATCH_SIZE * 2)\n",
    "\n",
    "    dataloader = (\n",
    "        dataset.map(preprocess, num_parallel_calls=tf.data.AUTOTUNE)\n",
    "        .batch(batch_size)\n",
    "        .prefetch(tf.data.AUTOTUNE)\n",
    "    )\n",
    "    return dataloader\n",
    "\n",
    "# Create Embedding Mechanism\n",
    "\n",
    "class TubeletEmbedding(layers.Layer):\n",
    "    def __init__(self, embed_dim, patch_size, **kwargs):\n",
    "        super().__init__(**kwargs)\n",
    "        self.projection = layers.Conv3D(\n",
    "            filters=embed_dim,\n",
    "            kernel_size=patch_size,\n",
    "            strides=patch_size,\n",
    "            padding=\"VALID\",\n",
    "        )\n",
    "        self.flatten = layers.Reshape(target_shape=(-1, embed_dim))\n",
    "\n",
    "    def call(self, videos):\n",
    "        \n",
    "        # `projected_patches`\n",
    "        # dividing the input into patches (determined by kernel_size and strides) \n",
    "        # and transforming each patch into an 64-dimensional embedding.\n",
    "        \n",
    "        projected_patches = self.projection(videos) \n",
    "        flattened_patches = self.flatten(projected_patches)\n",
    "        return flattened_patches\n",
    "\n",
    "# Create Positional Mechanism\n",
    "\n",
    "class PositionalEncoder(layers.Layer):\n",
    "    def __init__(self, embed_dim, **kwargs):\n",
    "        super().__init__(**kwargs)\n",
    "        self.embed_dim = embed_dim\n",
    "\n",
    "    def build(self, input_shape):\n",
    "        _, num_tokens, _ = input_shape\n",
    "        self.position_embedding = layers.Embedding(\n",
    "            input_dim=num_tokens, output_dim=self.embed_dim\n",
    "        )\n",
    "        self.positions = ops.arange(0, num_tokens, 1)\n",
    "\n",
    "    def call(self, encoded_tokens):\n",
    "        # Encode the positions and add it to the encoded tokens\n",
    "        encoded_positions = self.position_embedding(self.positions)\n",
    "        encoded_tokens = encoded_tokens + encoded_positions\n",
    "        return encoded_tokens"
   ]
  },
  {
   "cell_type": "code",
   "execution_count": 10,
   "id": "43b830bd",
   "metadata": {},
   "outputs": [],
   "source": [
    "# Create train, test, and valid dataloader\n",
    "\n",
    "trainloader = prepare_dataloader(train_videos, train_labels, \"train\")\n",
    "testloader = prepare_dataloader(test_videos, test_labels, \"test\")\n",
    "validloader = prepare_dataloader(valid_videos, valid_labels, \"valid\")"
   ]
  },
  {
   "cell_type": "markdown",
   "id": "73230f36",
   "metadata": {},
   "source": [
    "## Run Model"
   ]
  },
  {
   "cell_type": "code",
   "execution_count": 11,
   "id": "793a9232",
   "metadata": {},
   "outputs": [],
   "source": [
    "\"\"\" \n",
    "IMG_SIZE = 128\n",
    "CHAN_SIZE = 1\n",
    "BATCH_SIZE = 8\n",
    "AUTO = tf.data.AUTOTUNE\n",
    "INPUT_SHAPE = (50, IMG_SIZE, IMG_SIZE, CHAN_SIZE)\n",
    "NUM_CLASSES = 2\n",
    "\n",
    "LEARNING_RATE = 1e-4\n",
    "WEIGHT_DECAY = 1e-5\n",
    "\n",
    "PATCH_SIZE = (8,8,8)\n",
    "NUM_PATCHES = (INPUT_SHAPE[0] // PATCH_SIZE[0]) ** 2\n",
    "\n",
    "LAYER_NORM_EPS = 1e-6\n",
    "EMBED_DIM = 64\n",
    "NUM_HEADS =  6\n",
    "NUM_LAYERS = 6\n",
    "\"\"\"\n",
    "\n",
    "# The Internal Structure of The Classifier Model\n",
    "\n",
    "def create_vivit_classifier(\n",
    "    tubelet_embedder,\n",
    "    positional_encoder,\n",
    "    input_shape=INPUT_SHAPE,\n",
    "    transformer_layers=NUM_LAYERS,\n",
    "    num_heads=NUM_HEADS,\n",
    "    embed_dim=EMBED_DIM,\n",
    "    layer_norm_eps=LAYER_NORM_EPS,\n",
    "    num_classes=NUM_CLASSES\n",
    "):\n",
    "    # Get the input layer\n",
    "    inputs = layers.Input(shape=input_shape) # shape=(50,128,128,1)\n",
    "    # Create patches\n",
    "    patches = tubelet_embedder(inputs)\n",
    "    # Encode patches\n",
    "    encoded_patches = positional_encoder(patches)\n",
    "\n",
    "    for _ in range(transformer_layers):\n",
    "        \n",
    "        # 1. Layer normalization and MultiHeadAttention\n",
    "        x1 = layers.LayerNormalization(epsilon=1e-6)(encoded_patches)\n",
    "        \n",
    "        # 2. The MultiHeadAttention\n",
    "        attention_output = layers.MultiHeadAttention(\n",
    "            num_heads=num_heads, key_dim=embed_dim // num_heads, dropout=0.1\n",
    "        )(x1, x1)\n",
    "        \n",
    "        # 3. Skip connection - Add output from dense layers to earlier layer normalization\n",
    "        x2 = layers.Add()([attention_output, encoded_patches])\n",
    "        \n",
    "        # 4. Layer Normalization and MultiLayerPerception\n",
    "        x3 = layers.LayerNormalization(epsilon=1e-6)(x2)\n",
    "        \n",
    "        # 5. The two fully-connected layers with GELU activation functions\n",
    "        x4 = layers.Dropout(0.1)(layers.Dense(units=embed_dim, activation='gelu')(x3))\n",
    "        x5 = layers.Dropout(0.1)(layers.Dense(units=embed_dim, activation='gelu')(x4))\n",
    "        \n",
    "        # 6. Skip connection - Add output from dense layers to earlier layer normalization\n",
    "        encoded_patches = layers.Add()([x5, x2])\n",
    "\n",
    "    # Layer normalization and Global average pooling\n",
    "    representation = layers.LayerNormalization(epsilon=layer_norm_eps)(encoded_patches)\n",
    "    representation = layers.GlobalAvgPool1D()(representation)\n",
    "\n",
    "    # Classify outputs\n",
    "    outputs = layers.Dense(units=num_classes, activation=\"softmax\")(representation)\n",
    "\n",
    "    # Create the Keras model\n",
    "    model = keras.Model(inputs=inputs, outputs=outputs)\n",
    "    \n",
    "    return model"
   ]
  },
  {
   "cell_type": "code",
   "execution_count": 12,
   "id": "4e328b4c",
   "metadata": {},
   "outputs": [],
   "source": [
    "# def run_experiment(callbacks=None):\n",
    "#     # Initialize model\n",
    "#     model = create_vivit_classifier(\n",
    "#         tubelet_embedder=TubeletEmbedding(\n",
    "#             embed_dim=EMBED_DIM, patch_size=PATCH_SIZE\n",
    "#         ),\n",
    "#         positional_encoder=PositionalEncoder(embed_dim=EMBED_DIM)\n",
    "#     )\n",
    "#     # Compile the model with the optimizer, loss function and the metrics.\n",
    "#     optimizer = keras.optimizers.Adam(learning_rate=LEARNING_RATE)\n",
    "#     model.compile(\n",
    "#         optimizer=optimizer,\n",
    "#         loss=\"sparse_categorical_crossentropy\",\n",
    "#         metrics=[\n",
    "#             keras.metrics.SparseCategoricalAccuracy(name=\"accuracy\"),\n",
    "#             keras.metrics.SparseTopKCategoricalAccuracy(5, name=\"top-5-accuracy\"),\n",
    "#         ],\n",
    "#     )\n",
    "#     # Train the model\n",
    "#     # You may define the epoch number here\n",
    "#     # print(\"Callbacks being passed to model.fit():\", callbacks)\n",
    "#     if (callbacks != None):\n",
    "#         # You may define the epoch number here\n",
    "#         history = model.fit(trainloader, epochs=5, validation_data=validloader, callbacks=callbacks)\n",
    "#     else:\n",
    "#         # You may define the epoch number here\n",
    "#         history = model.fit(trainloader, epochs=5, validation_data=validloader)\n",
    "#     return model, history"
   ]
  },
  {
   "cell_type": "markdown",
   "id": "297915f2",
   "metadata": {},
   "source": [
    "# Interactive Weight Visualization"
   ]
  },
  {
   "cell_type": "code",
   "execution_count": null,
   "id": "a11b1e5e",
   "metadata": {},
   "outputs": [
    {
     "name": "stdout",
     "output_type": "stream",
     "text": [
      "Epoch 1/5\n",
      "\u001b[1m8/8\u001b[0m \u001b[32m━━━━━━━━━━━━━━━━━━━━\u001b[0m\u001b[37m\u001b[0m \u001b[1m96s\u001b[0m 12s/step - accuracy: 0.7388 - loss: 0.9392 - top-5-accuracy: 1.0000 - val_accuracy: 0.5000 - val_loss: 0.6791 - val_top-5-accuracy: 1.0000\n",
      "Epoch 2/5\n",
      "\u001b[1m8/8\u001b[0m \u001b[32m━━━━━━━━━━━━━━━━━━━━\u001b[0m\u001b[37m\u001b[0m \u001b[1m165s\u001b[0m 22s/step - accuracy: 0.8041 - loss: 0.5979 - top-5-accuracy: 1.0000 - val_accuracy: 0.5500 - val_loss: 0.7241 - val_top-5-accuracy: 1.0000\n",
      "Epoch 3/5\n",
      "\u001b[1m8/8\u001b[0m \u001b[32m━━━━━━━━━━━━━━━━━━━━\u001b[0m\u001b[37m\u001b[0m \u001b[1m92s\u001b[0m 11s/step - accuracy: 0.3789 - loss: 0.8045 - top-5-accuracy: 1.0000 - val_accuracy: 0.6000 - val_loss: 0.6416 - val_top-5-accuracy: 1.0000\n",
      "Epoch 4/5\n",
      "\u001b[1m8/8\u001b[0m \u001b[32m━━━━━━━━━━━━━━━━━━━━\u001b[0m\u001b[37m\u001b[0m \u001b[1m96s\u001b[0m 12s/step - accuracy: 0.6261 - loss: 0.6572 - top-5-accuracy: 1.0000 - val_accuracy: 0.6500 - val_loss: 0.6040 - val_top-5-accuracy: 1.0000\n",
      "Epoch 5/5\n",
      "\u001b[1m2/8\u001b[0m \u001b[32m━━━━━\u001b[0m\u001b[37m━━━━━━━━━━━━━━━\u001b[0m \u001b[1m1:07\u001b[0m 11s/step - accuracy: 0.4688 - loss: 0.6500 - top-5-accuracy: 1.0000"
     ]
    }
   ],
   "source": [
    "import int_weight_vis as iwv\n",
    "\n",
    "model = create_vivit_classifier(\n",
    "    tubelet_embedder=TubeletEmbedding(\n",
    "        embed_dim=EMBED_DIM, patch_size=PATCH_SIZE\n",
    "    ),\n",
    "    positional_encoder=PositionalEncoder(embed_dim=EMBED_DIM)\n",
    ")\n",
    "\n",
    "iwv.run(\n",
    "    model = model, \n",
    "    optimizer = keras.optimizers.Adam(learning_rate=LEARNING_RATE),\n",
    "    loss = \"sparse_categorical_crossentropy\", \n",
    "    epochs = 5, \n",
    "    train_dataloader = trainloader, \n",
    "    test_dataloader = testloader, \n",
    "    validation_dataloader = validloader, \n",
    "    class_names = ['Normal', 'Crash'])"
   ]
  },
  {
   "cell_type": "markdown",
   "id": "dc96dc69",
   "metadata": {},
   "source": [
    "# Visualization\n",
    "\n",
    "1. Static (Model Evaluation)\n",
    "    1. Model accuracy & loss\n",
    "    2. ROC Curves and AUC \n",
    "    3. Confusion Matrix\n",
    "    4. T-SNE\n",
    "    5. Weight Histograms\n",
    "    \n",
    "2. Interactive (Feature Analysis)\n",
    "    1. Feature Weight Tendency\n",
    "    2. Weight Heatmap based on Epochs"
   ]
  },
  {
   "cell_type": "markdown",
   "id": "b1e0381a",
   "metadata": {},
   "source": [
    "## 1. Model Evaluation"
   ]
  },
  {
   "cell_type": "markdown",
   "id": "f8e1ef63",
   "metadata": {},
   "source": [
    "### 1.1 Model accuracy & loss"
   ]
  },
  {
   "cell_type": "code",
   "execution_count": 60,
   "id": "05c39734",
   "metadata": {},
   "outputs": [
    {
     "data": {
      "image/png": "[encoded data removed]",
      "text/plain": [
       "<Figure size 800x300 with 2 Axes>"
      ]
     },
     "metadata": {},
     "output_type": "display_data"
    }
   ],
   "source": [
    "# Accuracy and Loss\n",
    "plt.figure(figsize=(8, 3))\n",
    "\n",
    "plt.subplot(1, 2, 1)\n",
    "plt.plot(history.history['accuracy'], color='green')\n",
    "plt.title('Model Accuracy')\n",
    "plt.ylabel('Accuracy')\n",
    "plt.xlabel('Epoch')\n",
    "plt.legend(['Train', 'Validation'], loc='upper left')\n",
    "\n",
    "plt.subplot(1, 2, 2)\n",
    "plt.plot(history.history['loss'], color='green')\n",
    "plt.title('Model Loss')\n",
    "plt.ylabel('Loss')\n",
    "plt.xlabel('Epoch')\n",
    "plt.legend(['Train', 'Validation'], loc='upper left')\n",
    "\n",
    "plt.show()"
   ]
  },
  {
   "cell_type": "markdown",
   "id": "8d484ec2",
   "metadata": {},
   "source": [
    "### 1.2 ROC Curves and AUC"
   ]
  },
  {
   "cell_type": "code",
   "execution_count": 525,
   "id": "0d2f9a44",
   "metadata": {},
   "outputs": [
    {
     "name": "stdout",
     "output_type": "stream",
     "text": [
      "\u001b[1m1/1\u001b[0m \u001b[32m━━━━━━━━━━━━━━━━━━━━\u001b[0m\u001b[37m\u001b[0m \u001b[1m3s\u001b[0m 3s/step\n"
     ]
    },
    {
     "data": {
      "image/png": "[encoded data removed]",
      "text/plain": [
       "<Figure size 640x480 with 1 Axes>"
      ]
     },
     "metadata": {},
     "output_type": "display_data"
    }
   ],
   "source": [
    "# Predict the probabilities for the positive class\n",
    "y_pred_probs = model.predict(valid_videos)\n",
    "y_score = y_pred_probs[:, 1]\n",
    "\n",
    "# Compute ROC curve and ROC area for each class\n",
    "fpr, tpr, thresholds = roc_curve(valid_labels, y_score)\n",
    "roc_auc = auc(fpr, tpr)\n",
    "\n",
    "# Plot ROC curve\n",
    "plt.figure()\n",
    "plt.plot(fpr, tpr, color='seagreen', lw=2, label='ROC curve (area = %0.2f)' % roc_auc)\n",
    "plt.plot([0, 1], [0, 1], color='limegreen', lw=2, linestyle='--')\n",
    "plt.xlim([0.0, 1.0])\n",
    "plt.ylim([0.0, 1.05])\n",
    "plt.xlabel('False Positive Rate')\n",
    "plt.ylabel('True Positive Rate')\n",
    "plt.title('Receiver Operating Characteristic')\n",
    "plt.legend(loc=\"lower right\")\n",
    "plt.show()"
   ]
  },
  {
   "cell_type": "markdown",
   "id": "c01fb5df",
   "metadata": {},
   "source": [
    "### 1.3 Confusion matrix (TF vs. TN vs. FP vs. FN) "
   ]
  },
  {
   "cell_type": "code",
   "execution_count": 62,
   "id": "f6e2b7b0",
   "metadata": {
    "collapsed": true
   },
   "outputs": [
    {
     "name": "stdout",
     "output_type": "stream",
     "text": [
      "\u001b[1m3/3\u001b[0m \u001b[32m━━━━━━━━━━━━━━━━━━━━\u001b[0m\u001b[37m\u001b[0m \u001b[1m18s\u001b[0m 5s/step\n"
     ]
    },
    {
     "data": {
      "image/png": "[encoded data removed]",
      "text/plain": [
       "<Figure size 640x480 with 2 Axes>"
      ]
     },
     "metadata": {},
     "output_type": "display_data"
    }
   ],
   "source": [
    "from sklearn.metrics import confusion_matrix\n",
    "import seaborn as sns\n",
    "\n",
    "# Evaluate 16 testing videos\n",
    "\n",
    "model_predict_test = model.predict(testloader)\n",
    "\n",
    "# Inspect Test Results\n",
    "\n",
    "pred = []\n",
    "normal_count = 0\n",
    "misclassified_indicies = []\n",
    "\n",
    "for i in range(16):\n",
    "    crash_conf = model_predict_test[i][0]\n",
    "    normal_conf = model_predict_test[i][1]\n",
    "    if (crash_conf > normal_conf):\n",
    "#         print(\"Prediction: Crash\", crash_conf)\n",
    "        pred.append(1)\n",
    "    else:\n",
    "#         print(\"Prediction: Normal\", normal_conf)\n",
    "        pred.append(0)\n",
    "        normal_count += 1\n",
    "#     if (i < 8):\n",
    "#         print(\"Actual:     Crash\", test_normal[i]+\".mp4\")\n",
    "#     else:\n",
    "#         print(\"Actual:     Normal\", test_crash[abs(i-8)]+\".mp4\")\n",
    "#     print()\n",
    "# print(str(abs(len(test_labels)-normal_count)) + \" videos out of 16 videos are classified as Crash\")\n",
    "# print(str(normal_count) + \" videos out of 16 videos are classified as Normal\")\n",
    "\n",
    "true = [1,1,1,1,1,1,1,1,0,0,0,0,0,0,0,0]\n",
    "\n",
    "cm = confusion_matrix(true, pred)\n",
    "\n",
    "# Visualize the confusion matrix using seaborn\n",
    "sns.heatmap(cm, annot=True, fmt=\"d\", cmap=\"Greens\")\n",
    "plt.xlabel('Predicted Labels (0-Normal, 1-Crash)')\n",
    "plt.ylabel('True Labels (0-Normal, 1-Crash)')\n",
    "plt.title('Confusion Matrix of Predicted vs. True Labels')\n",
    "plt.show()"
   ]
  },
  {
   "cell_type": "markdown",
   "id": "e59b4518",
   "metadata": {},
   "source": [
    "## 2.  Feature Analysis"
   ]
  },
  {
   "cell_type": "code",
   "execution_count": 64,
   "id": "5cbf01a6",
   "metadata": {},
   "outputs": [],
   "source": [
    "# # If interested in knowing what techniques are used for each layer\n",
    "\n",
    "# for layer in model.layers:\n",
    "#     print(layer.__class__.__name__)\n",
    "\n",
    "\n",
    "# # Extract Weights and Biases from the Two Dense Layers\n",
    "\n",
    "weights,biases = model.layers[-1].get_weights() # Retrieve weights from the last layer\n",
    "# print(np.array(weights.shape)) # [64  2], 64 embedding layers with 2 classes\n",
    "\n",
    "# # Print Biases\n",
    "# print(\"Biases\")\n",
    "# print(np.array(biases))\n",
    "\n",
    "# # Print Weights\n",
    "# print(\"\\nWeights\")\n",
    "# pd.DataFrame(weights)\n",
    "\n",
    "\n",
    "# # Print Max and Min Weights\n",
    "\n",
    "# print(max(pd.DataFrame(weights).iloc[:,0]), min(pd.DataFrame(weights).iloc[:,0]), \\\n",
    "#       max(pd.DataFrame(weights).iloc[:,1]), min(pd.DataFrame(weights).iloc[:,1]))"
   ]
  },
  {
   "cell_type": "markdown",
   "id": "c9d5031b",
   "metadata": {},
   "source": [
    "### 2.1 Weight histogram"
   ]
  },
  {
   "cell_type": "code",
   "execution_count": 504,
   "id": "83fbfdbd",
   "metadata": {
    "collapsed": true
   },
   "outputs": [
    {
     "data": {
      "image/png": "[encoded data removed]",
      "text/plain": [
       "<Figure size 1200x300 with 2 Axes>"
      ]
     },
     "metadata": {},
     "output_type": "display_data"
    }
   ],
   "source": [
    "# Plotting\n",
    "\n",
    "plt.figure(figsize=(12, 3))\n",
    "\n",
    "# Weight Distribution\n",
    "plt.subplot(1, 2, 1)\n",
    "plt.title(\"Weight Distribution of the Last Layer\")\n",
    "plt.hist(weights.flatten(), bins=50, color='green')\n",
    "plt.xlabel(\"Weight values\")\n",
    "plt.ylabel(\"Frequency\")\n",
    "\n",
    "# Bias Distribution\n",
    "plt.title(\"Bias Distribution from the Last Layer\")\n",
    "plt.subplot(1, 2, 2)\n",
    "plt.hist(biases.flatten(), bins=50, color='green')\n",
    "plt.xlabel(\"Bias values\")\n",
    "plt.ylabel(\"Frequency\")\n",
    "plt.tight_layout()\n",
    "plt.show()"
   ]
  },
  {
   "cell_type": "markdown",
   "id": "0cefea49",
   "metadata": {},
   "source": [
    "### 2.2 Weight Tendency Graph"
   ]
  },
  {
   "cell_type": "code",
   "execution_count": 505,
   "id": "4b67af27",
   "metadata": {},
   "outputs": [],
   "source": [
    "# Retireve weights and biases from the last layer for analysis\n",
    "\n",
    "weights,biases = model.layers[-1].get_weights()"
   ]
  },
  {
   "cell_type": "code",
   "execution_count": 485,
   "id": "fdc8b50d",
   "metadata": {},
   "outputs": [],
   "source": [
    "# Function that takes the parameters of\n",
    "# How users from to display the weights of the features\n",
    "# and how users want to rank those features\n",
    "# and how many numbers of features users want to see\n",
    "\n",
    "# This function is used for building an interactive interface\n",
    "# for users to analyze features\n",
    "\n",
    "# display: All: this option displays how \n",
    "# display: Tendency: \n",
    "\n",
    "# rank_style: Normal (DESC): \n",
    "# rank_style: Normal (ASC): \n",
    "# rank_style: Crash (DESC): \n",
    "# rank_style: Crash (ASC): \n",
    "\n",
    "# num_features: \n",
    "\n",
    "def feature_visual(display, rank_style, num_feature):\n",
    "    weights,biases = model.layers[-1].get_weights()\n",
    "    bound = math.ceil(max(abs(np.max(weights)), abs(np.min(weights)))*10)/10\n",
    "    \n",
    "    differences = abs(weights[:, 1]) - abs(weights[:, 0])\n",
    "    \n",
    "    # Rank Styles:\n",
    "    sorted_indices = [int(i) for i in range(EMBED_DIM)]\n",
    "    if (rank_style == 'Normal (DESC)'): # rank by greatest contribution to normal class\n",
    "        sorted_indices = np.argsort(weights[:, 0])[::-1]\n",
    "    elif (rank_style == 'Normal (ASC)'): # rank by smallest contribution to normal class\n",
    "        sorted_indices = np.argsort(weights[:, 0])\n",
    "    elif (rank_style == 'Crash (DESC)'): # rank by greatest contribution to crash class\n",
    "        sorted_indices = np.argsort(weights[:, 1])[::-1]\n",
    "    elif (rank_style == 'Crash (ASC)'): # rank by smallest contribution to crash class\n",
    "        sorted_indices = np.argsort(weights[:, 1])\n",
    "    \n",
    "    # Summary:\n",
    "    # (1) How many feature has tendency towards classifying model to Crash/Normal Class\n",
    "    negative_count = np.sum(differences < 0) # Normal\n",
    "    positive_count = np.sum(differences > 0) # Crash\n",
    "    \n",
    "    # (2) Greatest Crash POSITIVE Influence\n",
    "    max_crash_positive_influence = np.max(weights[:, 1][weights[:, 1] > 0])\n",
    "    \n",
    "    # (3) Smallest Crash POSITIVE Influence\n",
    "    min_crash_positive_influence = np.min(weights[:, 1][weights[:, 1] > 0])\n",
    "    \n",
    "    # (4) Greatest Normal POSITIVE Influence\n",
    "    max_normal_positive_influence = np.max(weights[:, 0][weights[:, 1] > 0])\n",
    "    \n",
    "    # (5) Smallest Normal POSITIVE Influence\n",
    "    min_normal_positive_influence = np.min(weights[:, 0][weights[:, 1] > 0])\n",
    "    \n",
    "    info = f'Total Number of Features: {EMBED_DIM}\\n{negative_count} Features Contribute Mainly to Normal Class\\n{positive_count} Features Contribute Mainly to Crash Class\\nMax Crash Positive Influence: {max_crash_positive_influence}\\nMin Crash Positive Influence: {min_crash_positive_influence}\\nMax Normal Positive Influence: {max_normal_positive_influence}\\nMin Normal Positive Influence: {min_normal_positive_influence}'\n",
    "\n",
    "    # Plotting\n",
    "    if (display == 'All'):\n",
    "        index = np.arange(2)\n",
    "        if (num_feature>1):\n",
    "            fig, axs = plt.subplots(num_feature, 1, figsize=(5, num_feature+0.5))\n",
    "            for i in range(num_feature):\n",
    "                axs[i].barh(index, weights[sorted_indices[i], :], 1, color=['skyblue', 'pink'])\n",
    "                axs[i].set_yticks(index)\n",
    "                axs[i].set_yticklabels(['Normal', 'Crash'])\n",
    "                axs[i].set_title('Feature {}'.format(sorted_indices[i]))\n",
    "                axs[i].set_xlim([-bound, bound])\n",
    "                axs[i].set_xlabel('Influence')\n",
    "        else:\n",
    "            fig, ax = plt.subplots(figsize=(5, 1.26))\n",
    "            ax.barh(index, weights[sorted_indices[0], :], 1, color=['skyblue', 'pink'])\n",
    "            ax.set_yticks(index)\n",
    "            ax.set_yticklabels(['Normal', 'Crash'])\n",
    "            ax.set_title('Feature {}'.format(sorted_indices[0]))\n",
    "            ax.set_xlim([-bound, bound])\n",
    "            ax.set_xlabel('Influence')\n",
    "    else:\n",
    "        if (num_feature>1):\n",
    "            fig, axs = plt.subplots(num_feature, 1, figsize=(5, num_feature))\n",
    "            for i in range(num_feature):\n",
    "                axs[i].barh(0, differences[sorted_indices[i]], color='pink' \\\n",
    "                            if differences[sorted_indices[i]] >= 0 else 'skyblue')\n",
    "                axs[i].set_title('Feature {}'.format(sorted_indices[i]))\n",
    "                axs[i].set_xlim([-bound, bound])\n",
    "                axs[i].set_xlabel('Influence Tendency')\n",
    "                axs[i].axes.get_yaxis().set_visible(False)\n",
    "        else:\n",
    "            fig, ax = plt.subplots(figsize=(5, 1.1))\n",
    "            ax.barh(0, differences[sorted_indices[0]], color='pink' \\\n",
    "                    if differences[sorted_indices[0]] >= 0 else 'skyblue')\n",
    "            ax.set_title('Feature {}'.format(sorted_indices[0]))\n",
    "            ax.set_xlim([-bound, bound])\n",
    "            ax.set_xlabel('Influence Tendency')\n",
    "            ax.axes.get_yaxis().set_visible(False)\n",
    "    legend_patches = [Patch(color='pink', label='Crash'),\n",
    "                  Patch(color='skyblue', label='Normal')]\n",
    "    legend_patches = [Patch(color='pink', label='Crash'), Patch(color='skyblue', label='Normal')]\n",
    "    fig.legend(handles=legend_patches, loc='upper right', bbox_to_anchor=(1.31, 1), borderaxespad=0.)\n",
    "    # fig.text(1.1, 0.49, info, transform=fig.transFigure, fontsize=10, verticalalignment='top')\n",
    "    print(info)\n",
    "    plt.tight_layout()\n",
    "    plt.show()\n",
    "    "
   ]
  },
  {
   "cell_type": "code",
   "execution_count": 486,
   "id": "65d42835",
   "metadata": {},
   "outputs": [
    {
     "data": {
      "application/vnd.jupyter.widget-view+json": {
       "model_id": "a480a6927faf41b7bdb544500ac5c092",
       "version_major": 2,
       "version_minor": 0
      },
      "text/plain": [
       "HBox(children=(Dropdown(description='Display:', options=('All', 'Tendency'), value='All'), Dropdown(descriptio…"
      ]
     },
     "metadata": {},
     "output_type": "display_data"
    },
    {
     "data": {
      "application/vnd.jupyter.widget-view+json": {
       "model_id": "52dc8a7679ee4684b27d2a4c9e316afc",
       "version_major": 2,
       "version_minor": 0
      },
      "text/plain": [
       "Output()"
      ]
     },
     "metadata": {},
     "output_type": "display_data"
    }
   ],
   "source": [
    "import ipywidgets as widgets\n",
    "\n",
    "# Options\n",
    "\n",
    "display_widget = widgets.Dropdown(options=['All', 'Tendency'], description='Display:')\n",
    "rankstyle_widget = widgets.Dropdown(options=['Default',\n",
    "                                         'Normal (DESC)', \n",
    "                                         'Normal (ASC)', \n",
    "                                         'Crash (DESC)',\n",
    "                                         'Crash (ASC)'], description='Rank:')\n",
    "num_feature_widget = widgets.IntSlider(value=3, min=1, max=(EMBED_DIM-1), step=1, description='Num Feature:')\n",
    "\n",
    "# UI\n",
    "\n",
    "ui = widgets.HBox([display_widget,rankstyle_widget,num_feature_widget])\n",
    "out = widgets.interactive_output(feature_visual, {'display':display_widget, \n",
    "                                                  'rank_style': rankstyle_widget,\n",
    "                                                  'num_feature':num_feature_widget})\n",
    "display(ui, out)"
   ]
  },
  {
   "cell_type": "markdown",
   "id": "282afa28",
   "metadata": {},
   "source": [
    "### 2.3 t_SNE"
   ]
  },
  {
   "cell_type": "code",
   "execution_count": 499,
   "id": "c11c8a8c",
   "metadata": {},
   "outputs": [],
   "source": [
    "def plot_clustering(X_red, labels, title=None):\n",
    "    plt.figure(figsize=(5, 4))\n",
    "    unique_labels = np.unique(labels)\n",
    "    colors = ['skyblue', 'pink']\n",
    "\n",
    "    for i, label in enumerate(unique_labels):\n",
    "        plt.scatter(X_red[labels == label, 0], \n",
    "                    X_red[labels == label, 1], \n",
    "                    color=colors[i], \n",
    "                    label=f'Cluster {label}')\n",
    "\n",
    "    plt.title(title if title else 'Cluster Plot')\n",
    "    plt.xlabel('Component 1')\n",
    "    plt.ylabel('Component 2')\n",
    "    plt.legend()\n",
    "    plt.grid(True)\n",
    "    plt.show()"
   ]
  },
  {
   "cell_type": "code",
   "execution_count": 323,
   "id": "d3a141cb",
   "metadata": {},
   "outputs": [
    {
     "name": "stdout",
     "output_type": "stream",
     "text": [
      "\u001b[1m1/1\u001b[0m \u001b[32m━━━━━━━━━━━━━━━━━━━━\u001b[0m\u001b[37m\u001b[0m \u001b[1m3s\u001b[0m 3s/step\n"
     ]
    }
   ],
   "source": [
    "model_feature = Model(inputs=model.input, outputs=model.layers[-1].output)\n",
    "features = model_feature.predict(valid_videos)"
   ]
  },
  {
   "cell_type": "code",
   "execution_count": 500,
   "id": "1c68af11",
   "metadata": {
    "collapsed": true
   },
   "outputs": [
    {
     "data": {
      "image/png": "[encoded data removed]",
      "text/plain": [
       "<Figure size 500x400 with 1 Axes>"
      ]
     },
     "metadata": {},
     "output_type": "display_data"
    }
   ],
   "source": [
    "tsne = TSNE(n_components=2, random_state=42, perplexity=10, n_iter=300, learning_rate=200)\n",
    "X_tsne = tsne.fit_transform(features)\n",
    "plot_clustering(X_tsne, valid_labels, 'tSNE-based Visualization')"
   ]
  },
  {
   "cell_type": "markdown",
   "id": "6664b2a2",
   "metadata": {},
   "source": [
    "### 2.4 Weight Heatmap based on Epochs"
   ]
  },
  {
   "cell_type": "code",
   "execution_count": 348,
   "id": "eebb4264",
   "metadata": {},
   "outputs": [
    {
     "name": "stdout",
     "output_type": "stream",
     "text": [
      "Callbacks being passed to model.fit(): [<__main__.WeightsHistory object at 0x39920c5d0>]\n",
      "<class 'list'>\n",
      "Epoch 1/5\n",
      "\u001b[1m8/8\u001b[0m \u001b[32m━━━━━━━━━━━━━━━━━━━━\u001b[0m\u001b[37m\u001b[0m \u001b[1m96s\u001b[0m 12s/step - accuracy: 0.7167 - loss: 1.1558 - top-5-accuracy: 1.0000 - val_accuracy: 0.5000 - val_loss: 0.6929 - val_top-5-accuracy: 1.0000\n",
      "Epoch 2/5\n",
      "\u001b[1m8/8\u001b[0m \u001b[32m━━━━━━━━━━━━━━━━━━━━\u001b[0m\u001b[37m\u001b[0m \u001b[1m96s\u001b[0m 12s/step - accuracy: 0.9112 - loss: 0.5510 - top-5-accuracy: 1.0000 - val_accuracy: 0.5000 - val_loss: 0.8307 - val_top-5-accuracy: 1.0000\n",
      "Epoch 3/5\n",
      "\u001b[1m8/8\u001b[0m \u001b[32m━━━━━━━━━━━━━━━━━━━━\u001b[0m\u001b[37m\u001b[0m \u001b[1m96s\u001b[0m 12s/step - accuracy: 0.3060 - loss: 0.9214 - top-5-accuracy: 1.0000 - val_accuracy: 0.5500 - val_loss: 0.7139 - val_top-5-accuracy: 1.0000\n",
      "Epoch 4/5\n",
      "\u001b[1m8/8\u001b[0m \u001b[32m━━━━━━━━━━━━━━━━━━━━\u001b[0m\u001b[37m\u001b[0m \u001b[1m90s\u001b[0m 11s/step - accuracy: 0.5175 - loss: 0.7794 - top-5-accuracy: 1.0000 - val_accuracy: 0.6500 - val_loss: 0.6158 - val_top-5-accuracy: 1.0000\n",
      "Epoch 5/5\n",
      "\u001b[1m8/8\u001b[0m \u001b[32m━━━━━━━━━━━━━━━━━━━━\u001b[0m\u001b[37m\u001b[0m \u001b[1m94s\u001b[0m 12s/step - accuracy: 0.5690 - loss: 0.6192 - top-5-accuracy: 1.0000 - val_accuracy: 0.6500 - val_loss: 0.6053 - val_top-5-accuracy: 1.0000\n"
     ]
    }
   ],
   "source": [
    "class WeightsHistory(tf.keras.callbacks.Callback):\n",
    "\n",
    "    def on_train_begin(self, logs=None):\n",
    "        # Use `logs=None` as a default instead of `logs={}` to follow the common practice.\n",
    "        self.weights_over_time = []\n",
    "\n",
    "    def on_epoch_end(self, epoch, logs=None):\n",
    "        weights, biases = self.model.layers[-1].get_weights()\n",
    "        self.weights_over_time.append(weights.copy())  # Use `weights.copy()` to ensure a true copy is saved\n",
    "        \n",
    "# Initialize the custom callback\n",
    "weights_history_callback = WeightsHistory()\n",
    "\n",
    "# Pass both callbacks to the `run_experiment` function\n",
    "model, history = run_experiment(callbacks=[weights_history_callback])"
   ]
  },
  {
   "cell_type": "code",
   "execution_count": 469,
   "id": "65f70e81",
   "metadata": {},
   "outputs": [],
   "source": [
    "weights_over_time = weights_history_callback.weights_over_time"
   ]
  },
  {
   "cell_type": "code",
   "execution_count": 624,
   "id": "8975e243",
   "metadata": {},
   "outputs": [
    {
     "data": {
      "application/vnd.jupyter.widget-view+json": {
       "model_id": "d8147f756f024bcaa737834e8c7c94b4",
       "version_major": 2,
       "version_minor": 0
      },
      "text/plain": [
       "interactive(children=(IntSlider(value=0, continuous_update=False, description='Epoch:', max=4), IntSlider(valu…"
      ]
     },
     "execution_count": 624,
     "metadata": {},
     "output_type": "execute_result"
    }
   ],
   "source": [
    "def plot_weights(epoch, num_features, rank_style):\n",
    "    weights = weights_over_time[epoch]\n",
    "    \n",
    "    sorted_indices = np.arange(weights.shape[0])\n",
    "    # Handle different ranking styles including the original order\n",
    "    if rank_style == 'Normal (DESC)':  # rank by greatest contribution to normal class\n",
    "        sorted_indices = np.argsort(weights[:, 0])[::-1]\n",
    "    elif rank_style == 'Normal (ASC)':  # rank by smallest contribution to normal class\n",
    "        sorted_indices = np.argsort(weights[:, 0])\n",
    "    elif rank_style == 'Crash (DESC)':  # rank by greatest contribution to crash class\n",
    "        sorted_indices = np.argsort(weights[:, 1])[::-1]\n",
    "    elif rank_style == 'Crash (ASC)':  # rank by smallest contribution to crash class\n",
    "        sorted_indices = np.argsort(weights[:, 1])\n",
    "\n",
    "    # Apply sorting and limit to the number of features selected\n",
    "    weights_to_plot = weights[sorted_indices][:num_features, :]\n",
    "    feature_labels = sorted_indices[:num_features]  # Label y-axis with the feature indices\n",
    "\n",
    "    # Plotting the heatmap\n",
    "    plt.figure(figsize=(10, 20))\n",
    "    sns.heatmap(weights_to_plot, annot=True, fmt=\".2f\", cmap=plt.get_cmap('RdBu'),\n",
    "                cbar=True, xticklabels=[\"Normal Class\", \"Crash Class\"], yticklabels=feature_labels)\n",
    "    plt.title(f\"Heatmap of Weights for Epoch {epoch + 1}\")\n",
    "    plt.xlabel(\"Class Contribution\")\n",
    "    plt.ylabel(\"Feature Index\")\n",
    "    plt.show()\n",
    "\n",
    "    # Statistical information based on the ranking and weights\n",
    "    differences = np.abs(weights[:, 1]) - np.abs(weights[:, 0])\n",
    "    negative_count = np.sum(differences < 0)  # Normal\n",
    "    positive_count = np.sum(differences > 0)  # Crash\n",
    "\n",
    "# Widgets for interaction\n",
    "epoch_slider = widgets.IntSlider(value=0, min=0, max=len(weights_over_time) - 1, step=1, description='Epoch:', continuous_update=False)\n",
    "feature_slider = widgets.IntSlider(value=64, min=1, max=64, step=1, description='Features:', continuous_update=False)\n",
    "rank_style_dropdown = widgets.Dropdown(\n",
    "    options=[\n",
    "        'Default', \n",
    "        'Normal (DESC)', \n",
    "        'Normal (ASC)', \n",
    "        'Crash (DESC)', \n",
    "        'Crash (ASC)'\n",
    "    ],\n",
    "    value='Default',\n",
    "    description='Rank Style:',\n",
    ")\n",
    "\n",
    "# Interactive function binding\n",
    "widgets.interactive(plot_weights, epoch=epoch_slider, num_features=feature_slider, rank_style=rank_style_dropdown)"
   ]
  },
  {
   "cell_type": "markdown",
   "id": "ba8099fd",
   "metadata": {},
   "source": [
    "# STOP"
   ]
  },
  {
   "cell_type": "markdown",
   "id": "764501e4",
   "metadata": {},
   "source": [
    "### For each feature, which feature does it tend more to contribute to?"
   ]
  },
  {
   "cell_type": "code",
   "execution_count": 498,
   "id": "dfe38b58",
   "metadata": {},
   "outputs": [],
   "source": [
    "# # Calculate the differences: Crash - Normal\n",
    "# differences = abs(weights[:, 1]) - abs(weights[:, 0])\n",
    "\n",
    "# # Number of features\n",
    "# num_features = weights.shape[0]\n",
    "\n",
    "# # Set bound\n",
    "# bound = math.ceil(np.max(differences)*10)/10\n",
    "\n",
    "# # Creating the plot\n",
    "# fig, axs = plt.subplots(64, 1, figsize=(5, 50))  # Adjust size as needed\n",
    "\n",
    "# for i in range(num_features):\n",
    "#     axs[i].barh(0, differences[i], color='orange' if differences[i] >= 0 else 'blue')\n",
    "#     axs[i].set_title('Feature {}'.format(i))\n",
    "#     axs[i].set_xlim([differences.min() - 1, differences.max() + 1])\n",
    "#     axs[i].axes.get_yaxis().set_visible(False)\n",
    "\n",
    "# plt.tight_layout()\n",
    "# plt.show()"
   ]
  },
  {
   "cell_type": "markdown",
   "id": "82ff922b",
   "metadata": {},
   "source": [
    "### (iii) What if we use only a few selected features in a selected layer?"
   ]
  },
  {
   "cell_type": "code",
   "execution_count": 327,
   "id": "44681197",
   "metadata": {},
   "outputs": [],
   "source": [
    "# def gelu(x):\n",
    "#     return 0.5 * x * (1 + np.tanh(np.sqrt(2 / np.pi) * (x + 0.044715 * np.power(x, 3))))"
   ]
  },
  {
   "cell_type": "code",
   "execution_count": 328,
   "id": "2ce583aa",
   "metadata": {},
   "outputs": [],
   "source": [
    "# Separate the `differences` into those that contribute more to the normal class or crash class\n",
    "tend_normal = abs(differences[differences<0])\n",
    "tend_crash = abs(differences[differences>0])\n",
    "\n",
    "# Select a number\n",
    "x = 2\n",
    "\n",
    "# Select the top x features' indicies that contribute more to either of the class\n",
    "tend_normal_top_x_indices = np.argsort(tend_normal)[-x:][::-1]\n",
    "tend_crash_top_x_indices = np.argsort(tend_crash)[-x:][::-1]\n",
    "selected_weights_indices = np.concatenate((tend_normal_top_x_indices, tend_crash_top_x_indices))\n",
    "# selected_weights = weights[selected_weights_indices]\n",
    "\n",
    "# Biases\n",
    "# biases\n",
    "\n",
    "# I have the biases and the weight matrix for binary classification. \n",
    "# How should I apply the GELU with those information?"
   ]
  },
  {
   "cell_type": "code",
   "execution_count": 329,
   "id": "8ac1b674",
   "metadata": {},
   "outputs": [
    {
     "data": {
      "text/plain": [
       "<__main__.ApplyMaskCallback at 0x37c9f2090>"
      ]
     },
     "execution_count": 329,
     "metadata": {},
     "output_type": "execute_result"
    }
   ],
   "source": [
    "from tensorflow.keras.callbacks import Callback\n",
    "\n",
    "class ApplyMaskCallback(Callback):\n",
    "    def __init__(self, mask, layer_index):\n",
    "        super().__init__()\n",
    "        self.mask = mask\n",
    "        self.layer_index = layer_index\n",
    "\n",
    "    def on_batch_end(self, batch, logs=None):\n",
    "        print(f\"batch ends\")\n",
    "        weights = self.model.layers[self.layer_index].get_weights()\n",
    "        weights[0] *= self.mask  # Apply mask to weights, not biases\n",
    "        self.model.layers[self.layer_index].set_weights(weights)\n",
    "\n",
    "layer_index = -1 # last layer\n",
    "mask = np.ones_like(model.layers[layer_index].get_weights()[0])\n",
    "mask = np.zeros((EMBED_DIM, NUM_CLASSES))\n",
    "mask[selected_weights_indices, :] = 1\n",
    "callback = ApplyMaskCallback(mask, layer_index=layer_index)\n",
    "callback"
   ]
  },
  {
   "cell_type": "code",
   "execution_count": 330,
   "id": "9e798fb3",
   "metadata": {},
   "outputs": [
    {
     "name": "stdout",
     "output_type": "stream",
     "text": [
      "Callbacks being passed to model.fit(): <__main__.ApplyMaskCallback object at 0x37c9f2090>\n",
      "Epoch 1/5\n",
      "batch ends\n",
      "\u001b[1m1/8\u001b[0m \u001b[32m━━\u001b[0m\u001b[37m━━━━━━━━━━━━━━━━━━\u001b[0m \u001b[1m1:36\u001b[0m 14s/step - accuracy: 0.0000e+00 - loss: 1.4305 - top-5-accuracy: 1.0000batch ends\n",
      "\u001b[1m2/8\u001b[0m \u001b[32m━━━━━\u001b[0m\u001b[37m━━━━━━━━━━━━━━━\u001b[0m \u001b[1m1:13\u001b[0m 12s/step - accuracy: 0.2188 - loss: 1.2413 - top-5-accuracy: 1.0000    batch ends\n",
      "\u001b[1m3/8\u001b[0m \u001b[32m━━━━━━━\u001b[0m\u001b[37m━━━━━━━━━━━━━\u001b[0m \u001b[1m57s\u001b[0m 12s/step - accuracy: 0.3403 - loss: 1.1334 - top-5-accuracy: 1.0000 batch ends\n",
      "\u001b[1m4/8\u001b[0m \u001b[32m━━━━━━━━━━\u001b[0m\u001b[37m━━━━━━━━━━\u001b[0m \u001b[1m47s\u001b[0m 12s/step - accuracy: 0.3802 - loss: 1.0708 - top-5-accuracy: 1.0000batch ends\n",
      "\u001b[1m5/8\u001b[0m \u001b[32m━━━━━━━━━━━━\u001b[0m\u001b[37m━━━━━━━━\u001b[0m \u001b[1m35s\u001b[0m 12s/step - accuracy: 0.3992 - loss: 1.0281 - top-5-accuracy: 1.0000batch ends\n",
      "\u001b[1m6/8\u001b[0m \u001b[32m━━━━━━━━━━━━━━━\u001b[0m\u001b[37m━━━━━\u001b[0m \u001b[1m23s\u001b[0m 12s/step - accuracy: 0.4021 - loss: 0.9984 - top-5-accuracy: 1.0000batch ends\n",
      "\u001b[1m7/8\u001b[0m \u001b[32m━━━━━━━━━━━━━━━━━\u001b[0m\u001b[37m━━━\u001b[0m \u001b[1m11s\u001b[0m 12s/step - accuracy: 0.3957 - loss: 0.9768 - top-5-accuracy: 1.0000batch ends\n",
      "\u001b[1m8/8\u001b[0m \u001b[32m━━━━━━━━━━━━━━━━━━━━\u001b[0m\u001b[37m\u001b[0m \u001b[1m91s\u001b[0m 11s/step - accuracy: 0.3855 - loss: 0.9463 - top-5-accuracy: 1.0000 - val_accuracy: 0.6000 - val_loss: 0.6862 - val_top-5-accuracy: 1.0000\n",
      "Epoch 2/5\n",
      "batch ends\n",
      "\u001b[1m1/8\u001b[0m \u001b[32m━━\u001b[0m\u001b[37m━━━━━━━━━━━━━━━━━━\u001b[0m \u001b[1m1:40\u001b[0m 14s/step - accuracy: 1.0000 - loss: 0.6660 - top-5-accuracy: 1.0000batch ends\n",
      "\u001b[1m2/8\u001b[0m \u001b[32m━━━━━\u001b[0m\u001b[37m━━━━━━━━━━━━━━━\u001b[0m \u001b[1m1:12\u001b[0m 12s/step - accuracy: 0.8750 - loss: 0.6720 - top-5-accuracy: 1.0000batch ends\n",
      "\u001b[1m3/8\u001b[0m \u001b[32m━━━━━━━\u001b[0m\u001b[37m━━━━━━━━━━━━━\u001b[0m \u001b[1m57s\u001b[0m 11s/step - accuracy: 0.8194 - loss: 0.6740 - top-5-accuracy: 1.0000 batch ends\n",
      "\u001b[1m4/8\u001b[0m \u001b[32m━━━━━━━━━━\u001b[0m\u001b[37m━━━━━━━━━━\u001b[0m \u001b[1m45s\u001b[0m 11s/step - accuracy: 0.8021 - loss: 0.6749 - top-5-accuracy: 1.0000batch ends\n",
      "\u001b[1m5/8\u001b[0m \u001b[32m━━━━━━━━━━━━\u001b[0m\u001b[37m━━━━━━━━\u001b[0m \u001b[1m33s\u001b[0m 11s/step - accuracy: 0.7917 - loss: 0.6757 - top-5-accuracy: 1.0000batch ends\n",
      "\u001b[1m6/8\u001b[0m \u001b[32m━━━━━━━━━━━━━━━\u001b[0m\u001b[37m━━━━━\u001b[0m \u001b[1m22s\u001b[0m 11s/step - accuracy: 0.7882 - loss: 0.6762 - top-5-accuracy: 1.0000batch ends\n",
      "\u001b[1m7/8\u001b[0m \u001b[32m━━━━━━━━━━━━━━━━━\u001b[0m\u001b[37m━━━\u001b[0m \u001b[1m11s\u001b[0m 11s/step - accuracy: 0.7878 - loss: 0.6765 - top-5-accuracy: 1.0000batch ends\n",
      "\u001b[1m8/8\u001b[0m \u001b[32m━━━━━━━━━━━━━━━━━━━━\u001b[0m\u001b[37m\u001b[0m \u001b[1m90s\u001b[0m 11s/step - accuracy: 0.7905 - loss: 0.6765 - top-5-accuracy: 1.0000 - val_accuracy: 0.5000 - val_loss: 0.6848 - val_top-5-accuracy: 1.0000\n",
      "Epoch 3/5\n",
      "batch ends\n",
      "\u001b[1m1/8\u001b[0m \u001b[32m━━\u001b[0m\u001b[37m━━━━━━━━━━━━━━━━━━\u001b[0m \u001b[1m1:20\u001b[0m 12s/step - accuracy: 0.1250 - loss: 0.7522 - top-5-accuracy: 1.0000batch ends\n",
      "\u001b[1m2/8\u001b[0m \u001b[32m━━━━━\u001b[0m\u001b[37m━━━━━━━━━━━━━━━\u001b[0m \u001b[1m1:08\u001b[0m 11s/step - accuracy: 0.0938 - loss: 0.7552 - top-5-accuracy: 1.0000batch ends\n",
      "\u001b[1m3/8\u001b[0m \u001b[32m━━━━━━━\u001b[0m\u001b[37m━━━━━━━━━━━━━\u001b[0m \u001b[1m1:00\u001b[0m 12s/step - accuracy: 0.1181 - loss: 0.7509 - top-5-accuracy: 1.0000batch ends\n",
      "\u001b[1m4/8\u001b[0m \u001b[32m━━━━━━━━━━\u001b[0m\u001b[37m━━━━━━━━━━\u001b[0m \u001b[1m47s\u001b[0m 12s/step - accuracy: 0.1667 - loss: 0.7451 - top-5-accuracy: 1.0000 batch ends\n",
      "\u001b[1m5/8\u001b[0m \u001b[32m━━━━━━━━━━━━\u001b[0m\u001b[37m━━━━━━━━\u001b[0m \u001b[1m35s\u001b[0m 12s/step - accuracy: 0.2233 - loss: 0.7367 - top-5-accuracy: 1.0000batch ends\n",
      "\u001b[1m6/8\u001b[0m \u001b[32m━━━━━━━━━━━━━━━\u001b[0m\u001b[37m━━━━━\u001b[0m \u001b[1m23s\u001b[0m 12s/step - accuracy: 0.2729 - loss: 0.7290 - top-5-accuracy: 1.0000batch ends\n",
      "\u001b[1m7/8\u001b[0m \u001b[32m━━━━━━━━━━━━━━━━━\u001b[0m\u001b[37m━━━\u001b[0m \u001b[1m11s\u001b[0m 12s/step - accuracy: 0.3181 - loss: 0.7220 - top-5-accuracy: 1.0000batch ends\n",
      "\u001b[1m8/8\u001b[0m \u001b[32m━━━━━━━━━━━━━━━━━━━━\u001b[0m\u001b[37m\u001b[0m \u001b[1m89s\u001b[0m 11s/step - accuracy: 0.3845 - loss: 0.7114 - top-5-accuracy: 1.0000 - val_accuracy: 0.5000 - val_loss: 0.6876 - val_top-5-accuracy: 1.0000\n",
      "Epoch 4/5\n",
      "batch ends\n",
      "\u001b[1m1/8\u001b[0m \u001b[32m━━\u001b[0m\u001b[37m━━━━━━━━━━━━━━━━━━\u001b[0m \u001b[1m1:27\u001b[0m 12s/step - accuracy: 0.0000e+00 - loss: 0.8307 - top-5-accuracy: 1.0000batch ends\n",
      "\u001b[1m2/8\u001b[0m \u001b[32m━━━━━\u001b[0m\u001b[37m━━━━━━━━━━━━━━━\u001b[0m \u001b[1m1:19\u001b[0m 13s/step - accuracy: 0.0312 - loss: 0.8162 - top-5-accuracy: 1.0000    batch ends\n",
      "\u001b[1m3/8\u001b[0m \u001b[32m━━━━━━━\u001b[0m\u001b[37m━━━━━━━━━━━━━\u001b[0m \u001b[1m1:10\u001b[0m 14s/step - accuracy: 0.0764 - loss: 0.7986 - top-5-accuracy: 1.0000batch ends\n",
      "\u001b[1m4/8\u001b[0m \u001b[32m━━━━━━━━━━\u001b[0m\u001b[37m━━━━━━━━━━\u001b[0m \u001b[1m55s\u001b[0m 14s/step - accuracy: 0.1276 - loss: 0.7812 - top-5-accuracy: 1.0000 batch ends\n",
      "\u001b[1m5/8\u001b[0m \u001b[32m━━━━━━━━━━━━\u001b[0m\u001b[37m━━━━━━━━\u001b[0m \u001b[1m41s\u001b[0m 14s/step - accuracy: 0.1721 - loss: 0.7673 - top-5-accuracy: 1.0000batch ends\n",
      "\u001b[1m6/8\u001b[0m \u001b[32m━━━━━━━━━━━━━━━\u001b[0m\u001b[37m━━━━━\u001b[0m \u001b[1m27s\u001b[0m 14s/step - accuracy: 0.2128 - loss: 0.7568 - top-5-accuracy: 1.0000batch ends\n",
      "\u001b[1m7/8\u001b[0m \u001b[32m━━━━━━━━━━━━━━━━━\u001b[0m\u001b[37m━━━\u001b[0m \u001b[1m13s\u001b[0m 14s/step - accuracy: 0.2539 - loss: 0.7462 - top-5-accuracy: 1.0000batch ends\n",
      "\u001b[1m8/8\u001b[0m \u001b[32m━━━━━━━━━━━━━━━━━━━━\u001b[0m\u001b[37m\u001b[0m \u001b[1m102s\u001b[0m 13s/step - accuracy: 0.3160 - loss: 0.7304 - top-5-accuracy: 1.0000 - val_accuracy: 0.5000 - val_loss: 0.6841 - val_top-5-accuracy: 1.0000\n",
      "Epoch 5/5\n",
      "batch ends\n",
      "\u001b[1m1/8\u001b[0m \u001b[32m━━\u001b[0m\u001b[37m━━━━━━━━━━━━━━━━━━\u001b[0m \u001b[1m1:31\u001b[0m 13s/step - accuracy: 0.3750 - loss: 0.8039 - top-5-accuracy: 1.0000batch ends\n",
      "\u001b[1m2/8\u001b[0m \u001b[32m━━━━━\u001b[0m\u001b[37m━━━━━━━━━━━━━━━\u001b[0m \u001b[1m1:19\u001b[0m 13s/step - accuracy: 0.3125 - loss: 0.8079 - top-5-accuracy: 1.0000batch ends\n",
      "\u001b[1m3/8\u001b[0m \u001b[32m━━━━━━━\u001b[0m\u001b[37m━━━━━━━━━━━━━\u001b[0m \u001b[1m1:03\u001b[0m 13s/step - accuracy: 0.3056 - loss: 0.8049 - top-5-accuracy: 1.0000batch ends\n",
      "\u001b[1m4/8\u001b[0m \u001b[32m━━━━━━━━━━\u001b[0m\u001b[37m━━━━━━━━━━\u001b[0m \u001b[1m51s\u001b[0m 13s/step - accuracy: 0.3307 - loss: 0.7939 - top-5-accuracy: 1.0000 batch ends\n",
      "\u001b[1m5/8\u001b[0m \u001b[32m━━━━━━━━━━━━\u001b[0m\u001b[37m━━━━━━━━\u001b[0m \u001b[1m37s\u001b[0m 13s/step - accuracy: 0.3696 - loss: 0.7797 - top-5-accuracy: 1.0000batch ends\n",
      "\u001b[1m6/8\u001b[0m \u001b[32m━━━━━━━━━━━━━━━\u001b[0m\u001b[37m━━━━━\u001b[0m \u001b[1m24s\u001b[0m 12s/step - accuracy: 0.4052 - loss: 0.7666 - top-5-accuracy: 1.0000batch ends\n",
      "\u001b[1m7/8\u001b[0m \u001b[32m━━━━━━━━━━━━━━━━━\u001b[0m\u001b[37m━━━\u001b[0m \u001b[1m12s\u001b[0m 12s/step - accuracy: 0.4392 - loss: 0.7546 - top-5-accuracy: 1.0000batch ends\n",
      "\u001b[1m8/8\u001b[0m \u001b[32m━━━━━━━━━━━━━━━━━━━━\u001b[0m\u001b[37m\u001b[0m \u001b[1m95s\u001b[0m 12s/step - accuracy: 0.4897 - loss: 0.7367 - top-5-accuracy: 1.0000 - val_accuracy: 0.5500 - val_loss: 0.6753 - val_top-5-accuracy: 1.0000\n"
     ]
    }
   ],
   "source": [
    "model_new, history_new = run_experiment(callbacks=callback)"
   ]
  },
  {
   "cell_type": "code",
   "execution_count": 331,
   "id": "e547dd4a",
   "metadata": {},
   "outputs": [],
   "source": [
    "weights_new,biases_new = model_new.layers[-1].get_weights()"
   ]
  },
  {
   "cell_type": "markdown",
   "id": "ebc20145",
   "metadata": {},
   "source": [
    "**Why using callback?**\n",
    "\n",
    "Selectively zero out weights in a specific layer (last layer) of a neural network during training\n",
    "\n",
    "Allowing the model to only learn using the unmasked weights during that last layer. \n",
    "\n",
    "This is useful for testing the impact of specific features or weights on model performance."
   ]
  },
  {
   "cell_type": "markdown",
   "id": "88d10de8",
   "metadata": {},
   "source": [
    "### 2.4 Multi-Head Attention"
   ]
  },
  {
   "cell_type": "code",
   "execution_count": 332,
   "id": "b3b2a326",
   "metadata": {},
   "outputs": [
    {
     "data": {
      "text/plain": [
       "[7, 8, 9]"
      ]
     },
     "execution_count": 332,
     "metadata": {},
     "output_type": "execute_result"
    }
   ],
   "source": [
    "# Here are the indicies of the misclassified test videos\n",
    "misclassified = []\n",
    "for i in range(len(pred)):\n",
    "    if pred[i] != true[i]:\n",
    "        misclassified.append(i)\n",
    "misclassified"
   ]
  },
  {
   "cell_type": "code",
   "execution_count": 333,
   "id": "f2e91d8b",
   "metadata": {},
   "outputs": [
    {
     "data": {
      "text/plain": [
       "'\\n\\nAttention Scores Calculation: \\nThe attention mechanism calculates scores by performing a dot product of the query with all keys for each head.\\nThese scores determine how much focus (or attention) should be given to other parts of the input.\\n\\nAggregated Information: Each element in the output tensor represents an aggregation of information \\nfrom other parts of the input, weighted by the calculated attention scores.\\n\\n\\nYou can aggregate attention weights across different frames to see \\nif there\\'s a temporal pattern in how the model attends to different regions of the video.\\n\\nGenerate heatmaps for individual frames \\nor average them across a sequence to visually \\nrepresent where the model is \"looking.\"\\n\\n'"
      ]
     },
     "execution_count": 333,
     "metadata": {},
     "output_type": "execute_result"
    }
   ],
   "source": [
    "# How do we visualize it?\n",
    "\n",
    "\"\"\"\n",
    "\n",
    "Attention Scores Calculation: \n",
    "The attention mechanism calculates scores by performing a dot product of the query with all keys for each head.\n",
    "These scores determine how much focus (or attention) should be given to other parts of the input.\n",
    "\n",
    "Aggregated Information: Each element in the output tensor represents an aggregation of information \n",
    "from other parts of the input, weighted by the calculated attention scores.\n",
    "\n",
    "\n",
    "You can aggregate attention weights across different frames to see \n",
    "if there's a temporal pattern in how the model attends to different regions of the video.\n",
    "\n",
    "Generate heatmaps for individual frames \n",
    "or average them across a sequence to visually \n",
    "represent where the model is \"looking.\"\n",
    "\n",
    "\"\"\"\n",
    "\n",
    "# attention.shape  # (1, 1536, 64) \n",
    "# (Batch Size (1), Num of Tokens (1526), Embedding Dimension (64))"
   ]
  },
  {
   "cell_type": "code",
   "execution_count": 334,
   "id": "9d7708d3",
   "metadata": {},
   "outputs": [
    {
     "name": "stdout",
     "output_type": "stream",
     "text": [
      "\u001b[1m1/1\u001b[0m \u001b[32m━━━━━━━━━━━━━━━━━━━━\u001b[0m\u001b[37m\u001b[0m \u001b[1m0s\u001b[0m 51ms/step\n",
      "[[[ 0.09189235 -0.02435764  0.07826333 ... -0.06344127 -0.02279736\n",
      "    0.03397992]\n",
      "  [ 0.091133   -0.02511653  0.07826594 ... -0.06374377 -0.02280097\n",
      "    0.0340687 ]\n",
      "  [ 0.09203015 -0.02500032  0.07874335 ... -0.06353375 -0.0235419\n",
      "    0.03362108]\n",
      "  ...\n",
      "  [ 0.09197901 -0.0231458   0.07766201 ... -0.06335907 -0.02306307\n",
      "    0.03379508]\n",
      "  [ 0.09199615 -0.02438948  0.07771355 ... -0.06373879 -0.02359002\n",
      "    0.03346928]\n",
      "  [ 0.09242077 -0.02352176  0.0787002  ... -0.06323387 -0.02398486\n",
      "    0.03366774]]]\n"
     ]
    }
   ],
   "source": [
    "\"\"\" REFERENCE\n",
    "\n",
    "EMBED_DIM = 64\n",
    "PATCH_SIZE = 8,8,8\n",
    "INPUT_SHAPE = (50, 128, 128, 1)\n",
    "NUM_HEADS = 6\n",
    "\n",
    "\"\"\"\n",
    "\n",
    "# The below codes are similar to the codes in line 33-62 \n",
    "#              in the `create_vivit_classifier` function\n",
    "\n",
    "def preprocess_frames(frames: tf.Tensor):\n",
    "    \"\"\"Preprocess the frames tensors for prediction.\"\"\"\n",
    "    frames = tf.image.convert_image_dtype(\n",
    "        frames[..., tf.newaxis],\n",
    "        tf.float32,\n",
    "    )\n",
    "    return frames\n",
    "\n",
    "# Define the model up to the attention layer\n",
    "# The below codes are similar to the codes in line 33-62 \n",
    "#              in the `create_vivit_classifier` function\n",
    "\n",
    "inputs = layers.Input(shape=INPUT_SHAPE)\n",
    "tubelet_embedder = TubeletEmbedding(embed_dim=EMBED_DIM, patch_size=PATCH_SIZE)\n",
    "patches = tubelet_embedder(inputs)\n",
    "positional_encoder = PositionalEncoder(embed_dim=EMBED_DIM)\n",
    "encoded_patches = positional_encoder(patches)\n",
    "x = layers.LayerNormalization(epsilon=1e-6)(encoded_patches)\n",
    "multi_head_attention = tf.keras.layers.MultiHeadAttention(num_heads=NUM_HEADS, key_dim=EMBED_DIM)\n",
    "attention_output = multi_head_attention(x, x)\n",
    "\n",
    "# Model Building\n",
    "\n",
    "model = Model(inputs=inputs, outputs=attention_output)\n",
    "\n",
    "# Assuming test_videos[0] is a numpy array and needs to be converted to a TensorFlow tensor\n",
    "\n",
    "video_tensor = tf.convert_to_tensor(test_videos[0], dtype=tf.float32)\n",
    "preprocessed_video = preprocess_frames(video_tensor)\n",
    "preprocessed_video = tf.expand_dims(preprocessed_video, axis=0)\n",
    "attention = model.predict(preprocessed_video)\n",
    "\n",
    "print(attention)"
   ]
  }
 ],
 "metadata": {
  "kernelspec": {
   "display_name": "Python 3 (ipykernel)",
   "language": "python",
   "name": "python3"
  },
  "language_info": {
   "codemirror_mode": {
    "name": "ipython",
    "version": 3
   },
   "file_extension": ".py",
   "mimetype": "text/x-python",
   "name": "python",
   "nbconvert_exporter": "python",
   "pygments_lexer": "ipython3",
   "version": "3.11.4"
  }
 },
 "nbformat": 4,
 "nbformat_minor": 5
}
