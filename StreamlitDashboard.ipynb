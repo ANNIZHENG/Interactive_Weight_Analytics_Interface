{
 "cells": [
  {
   "cell_type": "code",
   "execution_count": null,
   "id": "aca81b60",
   "metadata": {},
   "outputs": [
    {
     "name": "stdout",
     "output_type": "stream",
     "text": [
      "\u001b[0m\n",
      "\u001b[34m\u001b[1m  You can now view your Streamlit app in your browser.\u001b[0m\n",
      "\u001b[0m\n",
      "\u001b[34m  Local URL: \u001b[0m\u001b[1mhttp://localhost:8502\u001b[0m\n",
      "\u001b[34m  Network URL: \u001b[0m\u001b[1mhttp://192.168.1.54:8502\u001b[0m\n",
      "\u001b[0m\n",
      "Normal Training Videos: ['000103', '000384', '002860', '000815', '000109', '002473', '001719', '002299', '001729', '000178', '000572', '000896', '001004', '001379', '002419', '001139', '000357', '000380', '002772', '000420', '000457', '002070', '002234', '001394', '000654', '001840', '001409', '001140', '002933', '000903']\n",
      "\n",
      "Crash Training Videos: ['001099', '000094', '001400', '000779', '000477', '001311', '000334', '000207', '000394', '001141', '001131', '001355', '000776', '001094', '001183', '001248', '000741', '000502', '001288', '000601', '000941', '000593', '001267', '000147', '001438', '000728', '000553', '001373', '000570', '000759']\n",
      "\n",
      "Normal Validation Videos: ['000915', '000397', '002620', '001557', '001127', '002662', '000123', '001732', '000637', '000419']\n",
      "\n",
      "Crash Validation Videos: ['000162', '000947', '001495', '000335', '000256', '000929', '000143', '001328', '001301', '001494']\n",
      "\n",
      "Normal Test Videos: ['000131', '000882', '002414', '001471', '000953', '001084', '002233', '002873', '000027', '002466']\n",
      "\n",
      "Crash Test Videos: ['001443', '000351', '000430', '000778', '000467', '001410', '000748', '001302', '000547', '000164']\n",
      "Normal Training Videos: ['001329', '002685', '002088', '000572', '000586', '001564', '002395', '001085', '002941', '001918', '001293', '002045', '000939', '002571', '002324', '000193', '000865', '002788', '001097', '001644', '002805', '002634', '000272', '000373', '000567', '002391', '001577', '001483', '001011', '001755']\n",
      "\n",
      "Normal Training Videos: ['002182', '002990', '002269', '002662', '001635', '002106', '000496', '002752', '001734', '001141', '001947', '002826', '000526', '002900', '002485', '000903', '002162', '000242', '000677', '002252', '000284', '002921', '001086', '002411', '002410', '000921', '001354', '001385', '001530', '001016']\n",
      "Crash Training Videos: ['001134', '000324', '001087', '000366', '000540', '000162', '001309', '001026', '000229', '001499', '000235', '000930', '001394', '000230', '000697', '000664', '001313', '000630', '001100', '001397', '000515', '001479', '000547', '001227', '001105', '000408', '001162', '000766', '001040', '001248']\n",
      "\n",
      "\n",
      "Crash Training Videos: ['000439', '000883', '000919', '001380', '001494', '001108', '000825', '000111', '000194', '000192', '001170', '000726', '000271', '000512', '000390', '000376', '000834', '000908', '000969', '001181', '000995', '000842', '000498', '000865', '001099', '000695', '001336', '000510', '001339', '001492']\n",
      "\n",
      "Normal Validation Videos: ['000132', '002443', '000900', '001730', '000230', '002300', '000871', '002022', '000450', '000656']\n",
      "\n",
      "Normal Validation Videos: ['002703', '000277', '001991', '000938', '000516', '001795', '002209', '000943', '000030', '002585']\n",
      "\n",
      "Crash Validation Videos: ['001477', '000119', '001084', '000491', '000024', '000218', '000891', '000002', '001001', '000744']\n",
      "\n",
      "Crash Validation Videos: ['001482', '000201', '001371', '001128', '001105', '001324', '001350', '000288', '000571', '000155']\n",
      "\n",
      "Normal Test Videos: ['001289', '000627', '001636', '000261', '001621', '002441', '001077', '002208', '000899', '001880']\n",
      "\n",
      "Normal Test Videos: ['000868', '000291', '000263', '000129', '000824', '000975', '001850', '002120', '000087', '001277']\n",
      "\n",
      "Crash Test Videos: ['000602', '000040', '000314', '000494', '000007', '000176', '000612', '001281', '000331', '001474']\n",
      "Crash Test Videos: ['000199', '000948', '000224', '000104', '000868', '000031', '000125', '000202', '000393', '000957']\n",
      "Callbacks being passed to model.fit(): None\n",
      "Callbacks being passed to model.fit(): None\n",
      "Callbacks being passed to model.fit(): None\n",
      "\u001b[1m8/8\u001b[0m \u001b[32m━━━━━━━━━━━━━━━━━━━━\u001b[0m\u001b[37m\u001b[0m \u001b[1m1334s\u001b[0m 169s/step - accuracy: 0.4131 - loss: 1.1821 - top-5-accuracy: 1.0000 - val_accuracy: 0.5000 - val_loss: 0.8794 - val_top-5-accuracy: 1.0000\n",
      "\u001b[1m8/8\u001b[0m \u001b[32m━━━━━━━━━━━━━━━━━━━━\u001b[0m\u001b[37m\u001b[0m \u001b[1m1348s\u001b[0m 169s/step - accuracy: 0.5005 - loss: 1.1923 - top-5-accuracy: 1.0000 - val_accuracy: 0.5000 - val_loss: 0.6678 - val_top-5-accuracy: 1.0000\n",
      "\u001b[1m8/8\u001b[0m \u001b[32m━━━━━━━━━━━━━━━━━━━━\u001b[0m\u001b[37m\u001b[0m \u001b[1m1350s\u001b[0m 166s/step - accuracy: 0.6977 - loss: 1.4162 - top-5-accuracy: 1.0000 - val_accuracy: 0.6000 - val_loss: 0.7036 - val_top-5-accuracy: 1.0000\n",
      "\u001b[1m1/1\u001b[0m \u001b[32m━━━━━━━━━━━━━━━━━━━━\u001b[0m\u001b[37m\u001b[0m \u001b[1m19s\u001b[0m 19s/step\n",
      "\u001b[1m3/3\u001b[0m \u001b[32m━━━━━━━━━━━━━━━━━━━━\u001b[0m\u001b[37m\u001b[0m \u001b[1m21s\u001b[0m 6s/step\n"
     ]
    }
   ],
   "source": [
    "!streamlit run VideoVisionTransformer_test.py"
   ]
  },
  {
   "cell_type": "code",
   "execution_count": null,
   "id": "e6803c77",
   "metadata": {},
   "outputs": [],
   "source": []
  },
  {
   "cell_type": "code",
   "execution_count": 2,
   "id": "1d1cf0c0",
   "metadata": {},
   "outputs": [
    {
     "name": "stdout",
     "output_type": "stream",
     "text": [
      "Requirement already satisfied: streamlit in /Users/lyricli/anaconda3/lib/python3.11/site-packages (1.33.0)\n",
      "Requirement already satisfied: altair<6,>=4.0 in /Users/lyricli/anaconda3/lib/python3.11/site-packages (from streamlit) (5.3.0)\n",
      "Requirement already satisfied: blinker<2,>=1.0.0 in /Users/lyricli/anaconda3/lib/python3.11/site-packages (from streamlit) (1.8.1)\n",
      "Requirement already satisfied: cachetools<6,>=4.0 in /Users/lyricli/anaconda3/lib/python3.11/site-packages (from streamlit) (5.3.3)\n",
      "Requirement already satisfied: click<9,>=7.0 in /Users/lyricli/anaconda3/lib/python3.11/site-packages (from streamlit) (8.0.4)\n",
      "Requirement already satisfied: numpy<2,>=1.19.3 in /Users/lyricli/anaconda3/lib/python3.11/site-packages (from streamlit) (1.24.3)\n",
      "Requirement already satisfied: packaging<25,>=16.8 in /Users/lyricli/anaconda3/lib/python3.11/site-packages (from streamlit) (23.1)\n",
      "Requirement already satisfied: pandas<3,>=1.3.0 in /Users/lyricli/anaconda3/lib/python3.11/site-packages (from streamlit) (2.0.3)\n",
      "Requirement already satisfied: pillow<11,>=7.1.0 in /Users/lyricli/anaconda3/lib/python3.11/site-packages (from streamlit) (9.4.0)\n",
      "Requirement already satisfied: protobuf<5,>=3.20 in /Users/lyricli/anaconda3/lib/python3.11/site-packages (from streamlit) (4.25.3)\n",
      "Requirement already satisfied: pyarrow>=7.0 in /Users/lyricli/anaconda3/lib/python3.11/site-packages (from streamlit) (11.0.0)\n",
      "Requirement already satisfied: requests<3,>=2.27 in /Users/lyricli/anaconda3/lib/python3.11/site-packages (from streamlit) (2.31.0)\n",
      "Requirement already satisfied: rich<14,>=10.14.0 in /Users/lyricli/anaconda3/lib/python3.11/site-packages (from streamlit) (13.7.1)\n",
      "Requirement already satisfied: tenacity<9,>=8.1.0 in /Users/lyricli/anaconda3/lib/python3.11/site-packages (from streamlit) (8.2.2)\n",
      "Requirement already satisfied: toml<2,>=0.10.1 in /Users/lyricli/anaconda3/lib/python3.11/site-packages (from streamlit) (0.10.2)\n",
      "Requirement already satisfied: typing-extensions<5,>=4.3.0 in /Users/lyricli/anaconda3/lib/python3.11/site-packages (from streamlit) (4.10.0)\n",
      "Requirement already satisfied: gitpython!=3.1.19,<4,>=3.0.7 in /Users/lyricli/anaconda3/lib/python3.11/site-packages (from streamlit) (3.1.43)\n",
      "Requirement already satisfied: pydeck<1,>=0.8.0b4 in /Users/lyricli/anaconda3/lib/python3.11/site-packages (from streamlit) (0.9.0)\n",
      "Requirement already satisfied: tornado<7,>=6.0.3 in /Users/lyricli/anaconda3/lib/python3.11/site-packages (from streamlit) (6.3.2)\n",
      "Requirement already satisfied: jinja2 in /Users/lyricli/anaconda3/lib/python3.11/site-packages (from altair<6,>=4.0->streamlit) (3.1.2)\n",
      "Requirement already satisfied: jsonschema>=3.0 in /Users/lyricli/anaconda3/lib/python3.11/site-packages (from altair<6,>=4.0->streamlit) (4.21.1)\n",
      "Requirement already satisfied: toolz in /Users/lyricli/anaconda3/lib/python3.11/site-packages (from altair<6,>=4.0->streamlit) (0.12.0)\n",
      "Requirement already satisfied: gitdb<5,>=4.0.1 in /Users/lyricli/anaconda3/lib/python3.11/site-packages (from gitpython!=3.1.19,<4,>=3.0.7->streamlit) (4.0.11)\n",
      "Requirement already satisfied: python-dateutil>=2.8.2 in /Users/lyricli/anaconda3/lib/python3.11/site-packages (from pandas<3,>=1.3.0->streamlit) (2.8.2)\n",
      "Requirement already satisfied: pytz>=2020.1 in /Users/lyricli/anaconda3/lib/python3.11/site-packages (from pandas<3,>=1.3.0->streamlit) (2023.3.post1)\n",
      "Requirement already satisfied: tzdata>=2022.1 in /Users/lyricli/anaconda3/lib/python3.11/site-packages (from pandas<3,>=1.3.0->streamlit) (2023.3)\n",
      "Requirement already satisfied: charset-normalizer<4,>=2 in /Users/lyricli/anaconda3/lib/python3.11/site-packages (from requests<3,>=2.27->streamlit) (2.0.4)\n",
      "Requirement already satisfied: idna<4,>=2.5 in /Users/lyricli/anaconda3/lib/python3.11/site-packages (from requests<3,>=2.27->streamlit) (3.4)\n",
      "Requirement already satisfied: urllib3<3,>=1.21.1 in /Users/lyricli/anaconda3/lib/python3.11/site-packages (from requests<3,>=2.27->streamlit) (1.26.16)\n",
      "Requirement already satisfied: certifi>=2017.4.17 in /Users/lyricli/anaconda3/lib/python3.11/site-packages (from requests<3,>=2.27->streamlit) (2024.2.2)\n",
      "Requirement already satisfied: markdown-it-py>=2.2.0 in /Users/lyricli/anaconda3/lib/python3.11/site-packages (from rich<14,>=10.14.0->streamlit) (2.2.0)\n",
      "Requirement already satisfied: pygments<3.0.0,>=2.13.0 in /Users/lyricli/anaconda3/lib/python3.11/site-packages (from rich<14,>=10.14.0->streamlit) (2.15.1)\n",
      "Requirement already satisfied: smmap<6,>=3.0.1 in /Users/lyricli/anaconda3/lib/python3.11/site-packages (from gitdb<5,>=4.0.1->gitpython!=3.1.19,<4,>=3.0.7->streamlit) (5.0.1)\n",
      "Requirement already satisfied: MarkupSafe>=2.0 in /Users/lyricli/anaconda3/lib/python3.11/site-packages (from jinja2->altair<6,>=4.0->streamlit) (2.1.1)\n",
      "Requirement already satisfied: attrs>=22.2.0 in /Users/lyricli/anaconda3/lib/python3.11/site-packages (from jsonschema>=3.0->altair<6,>=4.0->streamlit) (23.2.0)\n",
      "Requirement already satisfied: jsonschema-specifications>=2023.03.6 in /Users/lyricli/anaconda3/lib/python3.11/site-packages (from jsonschema>=3.0->altair<6,>=4.0->streamlit) (2023.12.1)\n",
      "Requirement already satisfied: referencing>=0.28.4 in /Users/lyricli/anaconda3/lib/python3.11/site-packages (from jsonschema>=3.0->altair<6,>=4.0->streamlit) (0.35.0)\n",
      "Requirement already satisfied: rpds-py>=0.7.1 in /Users/lyricli/anaconda3/lib/python3.11/site-packages (from jsonschema>=3.0->altair<6,>=4.0->streamlit) (0.18.0)\n",
      "Requirement already satisfied: mdurl~=0.1 in /Users/lyricli/anaconda3/lib/python3.11/site-packages (from markdown-it-py>=2.2.0->rich<14,>=10.14.0->streamlit) (0.1.0)\n",
      "Requirement already satisfied: six>=1.5 in /Users/lyricli/anaconda3/lib/python3.11/site-packages (from python-dateutil>=2.8.2->pandas<3,>=1.3.0->streamlit) (1.16.0)\n",
      "Note: you may need to restart the kernel to use updated packages.\n"
     ]
    }
   ],
   "source": [
    "pip install streamlit\n"
   ]
  },
  {
   "cell_type": "code",
   "execution_count": null,
   "id": "60782e6f",
   "metadata": {},
   "outputs": [],
   "source": []
  }
 ],
 "metadata": {
  "kernelspec": {
   "display_name": "Python 3 (ipykernel)",
   "language": "python",
   "name": "python3"
  },
  "language_info": {
   "codemirror_mode": {
    "name": "ipython",
    "version": 3
   },
   "file_extension": ".py",
   "mimetype": "text/x-python",
   "name": "python",
   "nbconvert_exporter": "python",
   "pygments_lexer": "ipython3",
   "version": "3.11.5"
  }
 },
 "nbformat": 4,
 "nbformat_minor": 5
}
